{
  "cells": [
    {
      "cell_type": "code",
      "execution_count": null,
      "id": "85081051",
      "metadata": {
        "id": "85081051"
      },
      "outputs": [],
      "source": [
        "\n",
        "import numpy as np \n",
        "import matplotlib.pyplot as plt\n",
        "import pandas as pd\n",
        "import time\n",
        "\n",
        "from sklearn.feature_extraction.text import TfidfVectorizer\n",
        "from sklearn import svm\n",
        "from sklearn.metrics import classification_report\n",
        "from sklearn.model_selection import train_test_split\n",
        "import sklearn "
      ]
    },
    {
      "cell_type": "code",
      "source": [
        "!wget https://raw.githubusercontent.com/lee1613/Sentiment-Analysis-NLP-/main/dataset.csv"
      ],
      "metadata": {
        "colab": {
          "base_uri": "https://localhost:8080/"
        },
        "id": "1pJejOX1XLic",
        "outputId": "2eeea729-84ef-4ccc-da25-5bdea44e5007"
      },
      "id": "1pJejOX1XLic",
      "execution_count": null,
      "outputs": [
        {
          "output_type": "stream",
          "name": "stdout",
          "text": [
            "--2023-04-02 06:05:35--  https://raw.githubusercontent.com/lee1613/Sentiment-Analysis-NLP-/main/dataset.csv\n",
            "Resolving raw.githubusercontent.com (raw.githubusercontent.com)... 185.199.108.133, 185.199.109.133, 185.199.110.133, ...\n",
            "Connecting to raw.githubusercontent.com (raw.githubusercontent.com)|185.199.108.133|:443... connected.\n",
            "HTTP request sent, awaiting response... 200 OK\n",
            "Length: 1273144 (1.2M) [text/plain]\n",
            "Saving to: ‘dataset.csv’\n",
            "\n",
            "dataset.csv         100%[===================>]   1.21M  --.-KB/s    in 0.04s   \n",
            "\n",
            "2023-04-02 06:05:35 (27.5 MB/s) - ‘dataset.csv’ saved [1273144/1273144]\n",
            "\n"
          ]
        }
      ]
    },
    {
      "cell_type": "code",
      "execution_count": null,
      "id": "f020aa88",
      "metadata": {
        "colab": {
          "base_uri": "https://localhost:8080/",
          "height": 377
        },
        "id": "f020aa88",
        "outputId": "9cb1fb72-52e2-4d17-ae1a-2a462c6fef50"
      },
      "outputs": [
        {
          "output_type": "stream",
          "name": "stdout",
          "text": [
            "(10662, 2)\n"
          ]
        },
        {
          "output_type": "execute_result",
          "data": {
            "text/plain": [
              "   Label                                          Sentiment\n",
              "0      1  the rock is destined to be the 21st century's ...\n",
              "1      1  the gorgeously elaborate continuation of \" the...\n",
              "2      1                     effective but too-tepid biopic\n",
              "3      1  if you sometimes like to go to the movies to h...\n",
              "4      1  emerges as something rare , an issue movie tha...\n",
              "5      1  the film provides some great insight into the ...\n",
              "6      1  offers that rare combination of entertainment ...\n",
              "7      1  perhaps no picture ever made has more literall...\n",
              "8      1  steers turns in a snappy screenplay that curls...\n",
              "9      1  take care of my cat offers a refreshingly diff..."
            ],
            "text/html": [
              "\n",
              "  <div id=\"df-d34179ab-8ec2-43f2-8278-4c4078119673\">\n",
              "    <div class=\"colab-df-container\">\n",
              "      <div>\n",
              "<style scoped>\n",
              "    .dataframe tbody tr th:only-of-type {\n",
              "        vertical-align: middle;\n",
              "    }\n",
              "\n",
              "    .dataframe tbody tr th {\n",
              "        vertical-align: top;\n",
              "    }\n",
              "\n",
              "    .dataframe thead th {\n",
              "        text-align: right;\n",
              "    }\n",
              "</style>\n",
              "<table border=\"1\" class=\"dataframe\">\n",
              "  <thead>\n",
              "    <tr style=\"text-align: right;\">\n",
              "      <th></th>\n",
              "      <th>Label</th>\n",
              "      <th>Sentiment</th>\n",
              "    </tr>\n",
              "  </thead>\n",
              "  <tbody>\n",
              "    <tr>\n",
              "      <th>0</th>\n",
              "      <td>1</td>\n",
              "      <td>the rock is destined to be the 21st century's ...</td>\n",
              "    </tr>\n",
              "    <tr>\n",
              "      <th>1</th>\n",
              "      <td>1</td>\n",
              "      <td>the gorgeously elaborate continuation of \" the...</td>\n",
              "    </tr>\n",
              "    <tr>\n",
              "      <th>2</th>\n",
              "      <td>1</td>\n",
              "      <td>effective but too-tepid biopic</td>\n",
              "    </tr>\n",
              "    <tr>\n",
              "      <th>3</th>\n",
              "      <td>1</td>\n",
              "      <td>if you sometimes like to go to the movies to h...</td>\n",
              "    </tr>\n",
              "    <tr>\n",
              "      <th>4</th>\n",
              "      <td>1</td>\n",
              "      <td>emerges as something rare , an issue movie tha...</td>\n",
              "    </tr>\n",
              "    <tr>\n",
              "      <th>5</th>\n",
              "      <td>1</td>\n",
              "      <td>the film provides some great insight into the ...</td>\n",
              "    </tr>\n",
              "    <tr>\n",
              "      <th>6</th>\n",
              "      <td>1</td>\n",
              "      <td>offers that rare combination of entertainment ...</td>\n",
              "    </tr>\n",
              "    <tr>\n",
              "      <th>7</th>\n",
              "      <td>1</td>\n",
              "      <td>perhaps no picture ever made has more literall...</td>\n",
              "    </tr>\n",
              "    <tr>\n",
              "      <th>8</th>\n",
              "      <td>1</td>\n",
              "      <td>steers turns in a snappy screenplay that curls...</td>\n",
              "    </tr>\n",
              "    <tr>\n",
              "      <th>9</th>\n",
              "      <td>1</td>\n",
              "      <td>take care of my cat offers a refreshingly diff...</td>\n",
              "    </tr>\n",
              "  </tbody>\n",
              "</table>\n",
              "</div>\n",
              "      <button class=\"colab-df-convert\" onclick=\"convertToInteractive('df-d34179ab-8ec2-43f2-8278-4c4078119673')\"\n",
              "              title=\"Convert this dataframe to an interactive table.\"\n",
              "              style=\"display:none;\">\n",
              "        \n",
              "  <svg xmlns=\"http://www.w3.org/2000/svg\" height=\"24px\"viewBox=\"0 0 24 24\"\n",
              "       width=\"24px\">\n",
              "    <path d=\"M0 0h24v24H0V0z\" fill=\"none\"/>\n",
              "    <path d=\"M18.56 5.44l.94 2.06.94-2.06 2.06-.94-2.06-.94-.94-2.06-.94 2.06-2.06.94zm-11 1L8.5 8.5l.94-2.06 2.06-.94-2.06-.94L8.5 2.5l-.94 2.06-2.06.94zm10 10l.94 2.06.94-2.06 2.06-.94-2.06-.94-.94-2.06-.94 2.06-2.06.94z\"/><path d=\"M17.41 7.96l-1.37-1.37c-.4-.4-.92-.59-1.43-.59-.52 0-1.04.2-1.43.59L10.3 9.45l-7.72 7.72c-.78.78-.78 2.05 0 2.83L4 21.41c.39.39.9.59 1.41.59.51 0 1.02-.2 1.41-.59l7.78-7.78 2.81-2.81c.8-.78.8-2.07 0-2.86zM5.41 20L4 18.59l7.72-7.72 1.47 1.35L5.41 20z\"/>\n",
              "  </svg>\n",
              "      </button>\n",
              "      \n",
              "  <style>\n",
              "    .colab-df-container {\n",
              "      display:flex;\n",
              "      flex-wrap:wrap;\n",
              "      gap: 12px;\n",
              "    }\n",
              "\n",
              "    .colab-df-convert {\n",
              "      background-color: #E8F0FE;\n",
              "      border: none;\n",
              "      border-radius: 50%;\n",
              "      cursor: pointer;\n",
              "      display: none;\n",
              "      fill: #1967D2;\n",
              "      height: 32px;\n",
              "      padding: 0 0 0 0;\n",
              "      width: 32px;\n",
              "    }\n",
              "\n",
              "    .colab-df-convert:hover {\n",
              "      background-color: #E2EBFA;\n",
              "      box-shadow: 0px 1px 2px rgba(60, 64, 67, 0.3), 0px 1px 3px 1px rgba(60, 64, 67, 0.15);\n",
              "      fill: #174EA6;\n",
              "    }\n",
              "\n",
              "    [theme=dark] .colab-df-convert {\n",
              "      background-color: #3B4455;\n",
              "      fill: #D2E3FC;\n",
              "    }\n",
              "\n",
              "    [theme=dark] .colab-df-convert:hover {\n",
              "      background-color: #434B5C;\n",
              "      box-shadow: 0px 1px 3px 1px rgba(0, 0, 0, 0.15);\n",
              "      filter: drop-shadow(0px 1px 2px rgba(0, 0, 0, 0.3));\n",
              "      fill: #FFFFFF;\n",
              "    }\n",
              "  </style>\n",
              "\n",
              "      <script>\n",
              "        const buttonEl =\n",
              "          document.querySelector('#df-d34179ab-8ec2-43f2-8278-4c4078119673 button.colab-df-convert');\n",
              "        buttonEl.style.display =\n",
              "          google.colab.kernel.accessAllowed ? 'block' : 'none';\n",
              "\n",
              "        async function convertToInteractive(key) {\n",
              "          const element = document.querySelector('#df-d34179ab-8ec2-43f2-8278-4c4078119673');\n",
              "          const dataTable =\n",
              "            await google.colab.kernel.invokeFunction('convertToInteractive',\n",
              "                                                     [key], {});\n",
              "          if (!dataTable) return;\n",
              "\n",
              "          const docLinkHtml = 'Like what you see? Visit the ' +\n",
              "            '<a target=\"_blank\" href=https://colab.research.google.com/notebooks/data_table.ipynb>data table notebook</a>'\n",
              "            + ' to learn more about interactive tables.';\n",
              "          element.innerHTML = '';\n",
              "          dataTable['output_type'] = 'display_data';\n",
              "          await google.colab.output.renderOutput(dataTable, element);\n",
              "          const docLink = document.createElement('div');\n",
              "          docLink.innerHTML = docLinkHtml;\n",
              "          element.appendChild(docLink);\n",
              "        }\n",
              "      </script>\n",
              "    </div>\n",
              "  </div>\n",
              "  "
            ]
          },
          "metadata": {},
          "execution_count": 4
        }
      ],
      "source": [
        "df  = pd.read_csv(\"dataset.csv\", header = None)\n",
        "df.rename(columns = {0:\"Label\",1:\"Sentiment\"}, inplace = True)\n",
        "print(df.shape)\n",
        "df.head(10)\n"
      ]
    },
    {
      "cell_type": "code",
      "execution_count": null,
      "id": "39ebb93c",
      "metadata": {
        "colab": {
          "base_uri": "https://localhost:8080/"
        },
        "id": "39ebb93c",
        "outputId": "dfaa5e96-8bc4-4b22-b927-98df37a938bc"
      },
      "outputs": [
        {
          "output_type": "stream",
          "name": "stdout",
          "text": [
            "  (0, 4328)\t0.26110675107799397\n",
            "  (0, 4126)\t0.12370595269480736\n",
            "  (0, 4055)\t0.09000886682954677\n",
            "  (0, 4054)\t0.08549469961952712\n",
            "  (0, 4051)\t0.12944511001387746\n",
            "  (0, 3823)\t0.24127897757382433\n",
            "  (0, 3774)\t0.29008138745794615\n",
            "  (0, 3450)\t0.27261292991290054\n",
            "  (0, 3352)\t0.2252064900917602\n",
            "  (0, 2813)\t0.1391790519921295\n",
            "  (0, 2705)\t0.16882810602592976\n",
            "  (0, 2442)\t0.15927930915168467\n",
            "  (0, 2173)\t0.27261292991290054\n",
            "  (0, 2145)\t0.078010900515246\n",
            "  (0, 1861)\t0.15903150721358722\n",
            "  (0, 1775)\t0.28024366234140663\n",
            "  (0, 1744)\t0.19747550050369891\n",
            "  (0, 1355)\t0.14786206799452506\n",
            "  (0, 1049)\t0.27621589266391555\n",
            "  (0, 598)\t0.2399377657576403\n",
            "  (0, 331)\t0.1190787948325743\n",
            "  (0, 229)\t0.2565404424308364\n",
            "  (0, 175)\t0.06037654079972127\n",
            "  (0, 13)\t0.2848099709885641\n",
            "  (1, 4543)\t0.19462412943574495\n",
            "  :\t:\n",
            "  (10659, 1582)\t0.1924045887185008\n",
            "  (10659, 1050)\t0.27398221995603944\n",
            "  (10659, 742)\t0.2646904767305713\n",
            "  (10659, 722)\t0.26900336074948833\n",
            "  (10659, 544)\t0.27398221995603944\n",
            "  (10659, 301)\t0.22662150884499885\n",
            "  (10659, 246)\t0.10087029373494956\n",
            "  (10660, 4353)\t0.4257063145613372\n",
            "  (10660, 4076)\t0.3884695055568022\n",
            "  (10660, 4055)\t0.11278265523483494\n",
            "  (10660, 2428)\t0.35410674386874125\n",
            "  (10660, 2385)\t0.45736884061484756\n",
            "  (10660, 2338)\t0.2691051924372718\n",
            "  (10660, 1929)\t0.44482920424940475\n",
            "  (10660, 1607)\t0.22422573827436898\n",
            "  (10661, 4445)\t0.2848651817187475\n",
            "  (10661, 4138)\t0.4568885788163008\n",
            "  (10661, 2428)\t0.3066107311026543\n",
            "  (10661, 2199)\t0.2646587681537368\n",
            "  (10661, 2152)\t0.14738003949748935\n",
            "  (10661, 2145)\t0.1433046149561008\n",
            "  (10661, 1298)\t0.507403604900346\n",
            "  (10661, 1187)\t0.4484630210764655\n",
            "  (10661, 522)\t0.18142353236340633\n",
            "  (10661, 175)\t0.11091061472869963\n"
          ]
        }
      ],
      "source": [
        "vectorizer = TfidfVectorizer(min_df = 5, max_df = .8,sublinear_tf = True,use_idf = True)\n",
        "vectorizer.fit_transform(df.loc[:,\"Sentiment\"])\n",
        "vector = vectorizer.transform(df.loc[:,\"Sentiment\"])\n",
        "print (vector)"
      ]
    },
    {
      "cell_type": "code",
      "execution_count": null,
      "id": "3df829e8",
      "metadata": {
        "colab": {
          "base_uri": "https://localhost:8080/"
        },
        "id": "3df829e8",
        "outputId": "d031ea84-f0f3-4654-80f3-762b0624b98d"
      },
      "outputs": [
        {
          "output_type": "stream",
          "name": "stdout",
          "text": [
            "[0. 0. 0. ... 0. 0. 0.]\n",
            "effective but too-tepid biopic\n"
          ]
        }
      ],
      "source": [
        "print(vector.toarray()[2])\n",
        "print(df.loc[2,\"Sentiment\"])"
      ]
    },
    {
      "cell_type": "code",
      "execution_count": null,
      "id": "e5a8ce37",
      "metadata": {
        "colab": {
          "base_uri": "https://localhost:8080/"
        },
        "id": "e5a8ce37",
        "outputId": "cb4514fc-7425-40fe-fb2a-08c0f2cf50c5"
      },
      "outputs": [
        {
          "output_type": "stream",
          "name": "stdout",
          "text": [
            "4574\n",
            "(10662, 4574)\n",
            "(1, 4574)\n",
            "[0. 0. 0. ... 0. 0. 0.]\n",
            "4574\n"
          ]
        }
      ],
      "source": [
        "print(len(vectorizer.vocabulary_))\n",
        "#print(vectorizer.vocabulary_)\n",
        "print(vector.shape)\n",
        "print(vector[1,].shape) ## Indicates that each vector has a vector length of 4574 to represent it, which is the length\n",
        "# of the vocabulary \n",
        "print((vector[1].toarray()[0]))\n",
        "print(len(vector[1].toarray()[0]))\n"
      ]
    },
    {
      "cell_type": "code",
      "execution_count": null,
      "id": "9f198779",
      "metadata": {
        "colab": {
          "base_uri": "https://localhost:8080/"
        },
        "id": "9f198779",
        "outputId": "bd2fc868-3da5-41fd-b200-ed300421ca16"
      },
      "outputs": [
        {
          "output_type": "stream",
          "name": "stdout",
          "text": [
            "((8529, 4574), (2133, 4574), (8529,), (2133,))\n"
          ]
        }
      ],
      "source": [
        "train_x, test_x, train_y, test_y = train_test_split(vector,df.loc[:,\"Label\"],train_size = .8)\n",
        "print((train_x.shape,test_x.shape, train_y.shape, test_y.shape))"
      ]
    },
    {
      "cell_type": "code",
      "source": [
        "from sklearn.naive_bayes import MultinomialNB\n",
        "naive_bayes=MultinomialNB()\n",
        "naive_bayes.fit(train_x, train_y)\n",
        "prediction=naive_bayes.predict(test_x)\n",
        "print(prediction)"
      ],
      "metadata": {
        "colab": {
          "base_uri": "https://localhost:8080/"
        },
        "id": "MIBBspbfdLps",
        "outputId": "56885d67-419b-472e-ef7c-ec3eb76bca14"
      },
      "id": "MIBBspbfdLps",
      "execution_count": null,
      "outputs": [
        {
          "output_type": "stream",
          "name": "stdout",
          "text": [
            "[0 0 0 ... 0 0 1]\n"
          ]
        }
      ]
    },
    {
      "cell_type": "code",
      "source": [
        "report = classification_report(test_y, prediction, output_dict = True)\n",
        "print(report)"
      ],
      "metadata": {
        "colab": {
          "base_uri": "https://localhost:8080/"
        },
        "id": "Mx1IazMAeo9i",
        "outputId": "79197481-3803-4094-eece-28b8b65fe9e3"
      },
      "id": "Mx1IazMAeo9i",
      "execution_count": null,
      "outputs": [
        {
          "output_type": "stream",
          "name": "stdout",
          "text": [
            "{'0': {'precision': 0.7533274179236912, 'recall': 0.7897674418604651, 'f1-score': 0.771117166212534, 'support': 1075}, '1': {'precision': 0.7753479125248509, 'recall': 0.7372400756143668, 'f1-score': 0.7558139534883721, 'support': 1058}, 'accuracy': 0.7637130801687764, 'macro avg': {'precision': 0.764337665224271, 'recall': 0.7635037587374159, 'f1-score': 0.7634655598504531, 'support': 2133}, 'weighted avg': {'precision': 0.7642499136049041, 'recall': 0.7637130801687764, 'f1-score': 0.7635265431172863, 'support': 2133}}\n"
          ]
        }
      ]
    },
    {
      "cell_type": "code",
      "source": [
        "accuracy=sklearn.metrics.accuracy_score(test_y,prediction)\n",
        "print(accuracy)"
      ],
      "metadata": {
        "colab": {
          "base_uri": "https://localhost:8080/"
        },
        "id": "VJnLmWpHlsFQ",
        "outputId": "c5c365ca-d8cc-44d5-ce1a-f78d503af6f8"
      },
      "id": "VJnLmWpHlsFQ",
      "execution_count": null,
      "outputs": [
        {
          "output_type": "stream",
          "name": "stdout",
          "text": [
            "0.7637130801687764\n"
          ]
        }
      ]
    }
  ],
  "metadata": {
    "kernelspec": {
      "display_name": "Python 3 (ipykernel)",
      "language": "python",
      "name": "python3"
    },
    "language_info": {
      "codemirror_mode": {
        "name": "ipython",
        "version": 3
      },
      "file_extension": ".py",
      "mimetype": "text/x-python",
      "name": "python",
      "nbconvert_exporter": "python",
      "pygments_lexer": "ipython3",
      "version": "3.10.8"
    },
    "colab": {
      "provenance": []
    }
  },
  "nbformat": 4,
  "nbformat_minor": 5
}