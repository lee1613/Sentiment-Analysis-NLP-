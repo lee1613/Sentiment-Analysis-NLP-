{
  "cells": [
    {
      "cell_type": "code",
      "execution_count": null,
      "id": "85081051",
      "metadata": {
        "id": "85081051"
      },
      "outputs": [],
      "source": [
        "import numpy as np \n",
        "import matplotlib.pyplot as plt\n",
        "import pandas as pd\n",
        "import time\n",
        "\n",
        "from sklearn.feature_extraction.text import TfidfVectorizer\n",
        "from sklearn import svm\n",
        "from sklearn.metrics import classification_report\n",
        "from sklearn.metrics import confusion_matrix\n",
        "from sklearn.model_selection import train_test_split\n"
      ]
    },
    {
      "cell_type": "code",
      "source": [
        "# Loading the dataset from online\n",
        "!wget https://raw.githubusercontent.com/lee1613/Sentiment-Analysis-NLP-/main/dataset.csv"
      ],
      "metadata": {
        "colab": {
          "base_uri": "https://localhost:8080/"
        },
        "id": "qCgGEC39kppK",
        "outputId": "f7312906-f2ca-4d1e-edc0-41711d31cf7e"
      },
      "id": "qCgGEC39kppK",
      "execution_count": null,
      "outputs": [
        {
          "output_type": "stream",
          "name": "stdout",
          "text": [
            "--2023-04-01 15:56:47--  https://raw.githubusercontent.com/lee1613/Sentiment-Analysis-NLP-/main/dataset.csv\n",
            "Resolving raw.githubusercontent.com (raw.githubusercontent.com)... 185.199.110.133, 185.199.111.133, 185.199.109.133, ...\n",
            "Connecting to raw.githubusercontent.com (raw.githubusercontent.com)|185.199.110.133|:443... connected.\n",
            "HTTP request sent, awaiting response... 200 OK\n",
            "Length: 1273144 (1.2M) [text/plain]\n",
            "Saving to: ‘dataset.csv’\n",
            "\n",
            "dataset.csv         100%[===================>]   1.21M  --.-KB/s    in 0.07s   \n",
            "\n",
            "2023-04-01 15:56:47 (18.2 MB/s) - ‘dataset.csv’ saved [1273144/1273144]\n",
            "\n"
          ]
        }
      ]
    },
    {
      "cell_type": "code",
      "execution_count": null,
      "id": "f020aa88",
      "metadata": {
        "colab": {
          "base_uri": "https://localhost:8080/",
          "height": 380
        },
        "id": "f020aa88",
        "outputId": "8297dbf1-0d6a-48cc-bb32-661e069d6a44"
      },
      "outputs": [
        {
          "output_type": "stream",
          "name": "stdout",
          "text": [
            "(10662, 2)\n"
          ]
        },
        {
          "output_type": "execute_result",
          "data": {
            "text/plain": [
              "   Label                                          Sentiment\n",
              "0      1  the rock is destined to be the 21st century's ...\n",
              "1      1  the gorgeously elaborate continuation of \" the...\n",
              "2      1                     effective but too-tepid biopic\n",
              "3      1  if you sometimes like to go to the movies to h...\n",
              "4      1  emerges as something rare , an issue movie tha...\n",
              "5      1  the film provides some great insight into the ...\n",
              "6      1  offers that rare combination of entertainment ...\n",
              "7      1  perhaps no picture ever made has more literall...\n",
              "8      1  steers turns in a snappy screenplay that curls...\n",
              "9      1  take care of my cat offers a refreshingly diff..."
            ],
            "text/html": [
              "\n",
              "  <div id=\"df-eed52e06-adbe-4aea-97ea-ad6f6900f4e1\">\n",
              "    <div class=\"colab-df-container\">\n",
              "      <div>\n",
              "<style scoped>\n",
              "    .dataframe tbody tr th:only-of-type {\n",
              "        vertical-align: middle;\n",
              "    }\n",
              "\n",
              "    .dataframe tbody tr th {\n",
              "        vertical-align: top;\n",
              "    }\n",
              "\n",
              "    .dataframe thead th {\n",
              "        text-align: right;\n",
              "    }\n",
              "</style>\n",
              "<table border=\"1\" class=\"dataframe\">\n",
              "  <thead>\n",
              "    <tr style=\"text-align: right;\">\n",
              "      <th></th>\n",
              "      <th>Label</th>\n",
              "      <th>Sentiment</th>\n",
              "    </tr>\n",
              "  </thead>\n",
              "  <tbody>\n",
              "    <tr>\n",
              "      <th>0</th>\n",
              "      <td>1</td>\n",
              "      <td>the rock is destined to be the 21st century's ...</td>\n",
              "    </tr>\n",
              "    <tr>\n",
              "      <th>1</th>\n",
              "      <td>1</td>\n",
              "      <td>the gorgeously elaborate continuation of \" the...</td>\n",
              "    </tr>\n",
              "    <tr>\n",
              "      <th>2</th>\n",
              "      <td>1</td>\n",
              "      <td>effective but too-tepid biopic</td>\n",
              "    </tr>\n",
              "    <tr>\n",
              "      <th>3</th>\n",
              "      <td>1</td>\n",
              "      <td>if you sometimes like to go to the movies to h...</td>\n",
              "    </tr>\n",
              "    <tr>\n",
              "      <th>4</th>\n",
              "      <td>1</td>\n",
              "      <td>emerges as something rare , an issue movie tha...</td>\n",
              "    </tr>\n",
              "    <tr>\n",
              "      <th>5</th>\n",
              "      <td>1</td>\n",
              "      <td>the film provides some great insight into the ...</td>\n",
              "    </tr>\n",
              "    <tr>\n",
              "      <th>6</th>\n",
              "      <td>1</td>\n",
              "      <td>offers that rare combination of entertainment ...</td>\n",
              "    </tr>\n",
              "    <tr>\n",
              "      <th>7</th>\n",
              "      <td>1</td>\n",
              "      <td>perhaps no picture ever made has more literall...</td>\n",
              "    </tr>\n",
              "    <tr>\n",
              "      <th>8</th>\n",
              "      <td>1</td>\n",
              "      <td>steers turns in a snappy screenplay that curls...</td>\n",
              "    </tr>\n",
              "    <tr>\n",
              "      <th>9</th>\n",
              "      <td>1</td>\n",
              "      <td>take care of my cat offers a refreshingly diff...</td>\n",
              "    </tr>\n",
              "  </tbody>\n",
              "</table>\n",
              "</div>\n",
              "      <button class=\"colab-df-convert\" onclick=\"convertToInteractive('df-eed52e06-adbe-4aea-97ea-ad6f6900f4e1')\"\n",
              "              title=\"Convert this dataframe to an interactive table.\"\n",
              "              style=\"display:none;\">\n",
              "        \n",
              "  <svg xmlns=\"http://www.w3.org/2000/svg\" height=\"24px\"viewBox=\"0 0 24 24\"\n",
              "       width=\"24px\">\n",
              "    <path d=\"M0 0h24v24H0V0z\" fill=\"none\"/>\n",
              "    <path d=\"M18.56 5.44l.94 2.06.94-2.06 2.06-.94-2.06-.94-.94-2.06-.94 2.06-2.06.94zm-11 1L8.5 8.5l.94-2.06 2.06-.94-2.06-.94L8.5 2.5l-.94 2.06-2.06.94zm10 10l.94 2.06.94-2.06 2.06-.94-2.06-.94-.94-2.06-.94 2.06-2.06.94z\"/><path d=\"M17.41 7.96l-1.37-1.37c-.4-.4-.92-.59-1.43-.59-.52 0-1.04.2-1.43.59L10.3 9.45l-7.72 7.72c-.78.78-.78 2.05 0 2.83L4 21.41c.39.39.9.59 1.41.59.51 0 1.02-.2 1.41-.59l7.78-7.78 2.81-2.81c.8-.78.8-2.07 0-2.86zM5.41 20L4 18.59l7.72-7.72 1.47 1.35L5.41 20z\"/>\n",
              "  </svg>\n",
              "      </button>\n",
              "      \n",
              "  <style>\n",
              "    .colab-df-container {\n",
              "      display:flex;\n",
              "      flex-wrap:wrap;\n",
              "      gap: 12px;\n",
              "    }\n",
              "\n",
              "    .colab-df-convert {\n",
              "      background-color: #E8F0FE;\n",
              "      border: none;\n",
              "      border-radius: 50%;\n",
              "      cursor: pointer;\n",
              "      display: none;\n",
              "      fill: #1967D2;\n",
              "      height: 32px;\n",
              "      padding: 0 0 0 0;\n",
              "      width: 32px;\n",
              "    }\n",
              "\n",
              "    .colab-df-convert:hover {\n",
              "      background-color: #E2EBFA;\n",
              "      box-shadow: 0px 1px 2px rgba(60, 64, 67, 0.3), 0px 1px 3px 1px rgba(60, 64, 67, 0.15);\n",
              "      fill: #174EA6;\n",
              "    }\n",
              "\n",
              "    [theme=dark] .colab-df-convert {\n",
              "      background-color: #3B4455;\n",
              "      fill: #D2E3FC;\n",
              "    }\n",
              "\n",
              "    [theme=dark] .colab-df-convert:hover {\n",
              "      background-color: #434B5C;\n",
              "      box-shadow: 0px 1px 3px 1px rgba(0, 0, 0, 0.15);\n",
              "      filter: drop-shadow(0px 1px 2px rgba(0, 0, 0, 0.3));\n",
              "      fill: #FFFFFF;\n",
              "    }\n",
              "  </style>\n",
              "\n",
              "      <script>\n",
              "        const buttonEl =\n",
              "          document.querySelector('#df-eed52e06-adbe-4aea-97ea-ad6f6900f4e1 button.colab-df-convert');\n",
              "        buttonEl.style.display =\n",
              "          google.colab.kernel.accessAllowed ? 'block' : 'none';\n",
              "\n",
              "        async function convertToInteractive(key) {\n",
              "          const element = document.querySelector('#df-eed52e06-adbe-4aea-97ea-ad6f6900f4e1');\n",
              "          const dataTable =\n",
              "            await google.colab.kernel.invokeFunction('convertToInteractive',\n",
              "                                                     [key], {});\n",
              "          if (!dataTable) return;\n",
              "\n",
              "          const docLinkHtml = 'Like what you see? Visit the ' +\n",
              "            '<a target=\"_blank\" href=https://colab.research.google.com/notebooks/data_table.ipynb>data table notebook</a>'\n",
              "            + ' to learn more about interactive tables.';\n",
              "          element.innerHTML = '';\n",
              "          dataTable['output_type'] = 'display_data';\n",
              "          await google.colab.output.renderOutput(dataTable, element);\n",
              "          const docLink = document.createElement('div');\n",
              "          docLink.innerHTML = docLinkHtml;\n",
              "          element.appendChild(docLink);\n",
              "        }\n",
              "      </script>\n",
              "    </div>\n",
              "  </div>\n",
              "  "
            ]
          },
          "metadata": {},
          "execution_count": 3
        }
      ],
      "source": [
        "# Reading in the dataset and rename the column name\n",
        "df  = pd.read_csv(\"dataset.csv\", header = None)\n",
        "df.rename(columns = {0:\"Label\",1:\"Sentiment\"}, inplace = True)\n",
        "print(df.shape)\n",
        "df.head(10)\n"
      ]
    },
    {
      "cell_type": "code",
      "execution_count": null,
      "id": "39ebb93c",
      "metadata": {
        "id": "39ebb93c"
      },
      "outputs": [],
      "source": [
        "# Hyperparameters are tuned through trials and errors to get a better result as much as possible \n",
        "# Sublinear is set to true to further reduce the weight that carried by the frequent word tf = (1+log(tf))\n",
        "vectorizer = TfidfVectorizer(min_df = 4, max_df = .8,sublinear_tf = True) # Precision of 78.2 is obtained in polynomial SVM instead of a 78.9 accuracy if sublinear_tf is obtained\n",
        "vectorizer.fit_transform(df.loc[:,\"Sentiment\"])\n",
        "vector = vectorizer.transform(df.loc[:,\"Sentiment\"])\n"
      ]
    },
    {
      "cell_type": "code",
      "execution_count": null,
      "id": "3df829e8",
      "metadata": {
        "colab": {
          "base_uri": "https://localhost:8080/"
        },
        "id": "3df829e8",
        "outputId": "3da1aae6-b8d4-4627-bcd2-04f1ab304c47"
      },
      "outputs": [
        {
          "output_type": "stream",
          "name": "stdout",
          "text": [
            "[0. 0. 0. ... 0. 0. 0.]\n",
            "effective but too-tepid biopic\n"
          ]
        }
      ],
      "source": [
        "print(vector.toarray()[2])\n",
        "print(df.loc[2,\"Sentiment\"])"
      ]
    },
    {
      "cell_type": "code",
      "execution_count": null,
      "id": "e5a8ce37",
      "metadata": {
        "colab": {
          "base_uri": "https://localhost:8080/"
        },
        "id": "e5a8ce37",
        "outputId": "a8f5cdab-1deb-4f01-bf3c-17b2b1951807"
      },
      "outputs": [
        {
          "output_type": "stream",
          "name": "stdout",
          "text": [
            "5555\n",
            "(10662, 5555)\n",
            "(1, 5555)\n",
            "[0. 0. 0. ... 0. 0. 0.]\n",
            "5555\n"
          ]
        }
      ],
      "source": [
        "print(len(vectorizer.vocabulary_))\n",
        "#print(vectorizer.vocabulary_)\n",
        "print(vector.shape)\n",
        "print(vector[1,].shape) ## Indicates that each vector has a vector length of 4574 to represent it, which is the length\n",
        "# of the vocabulary \n",
        "print((vector[1].toarray()[0]))\n",
        "print(len(vector[1].toarray()[0]))\n"
      ]
    },
    {
      "cell_type": "code",
      "execution_count": null,
      "id": "9f198779",
      "metadata": {
        "colab": {
          "base_uri": "https://localhost:8080/"
        },
        "id": "9f198779",
        "outputId": "6fbd905b-7ca2-46fd-cc71-afbbcd7da620"
      },
      "outputs": [
        {
          "output_type": "stream",
          "name": "stdout",
          "text": [
            "((8529, 5555), (2133, 5555), (8529,), (2133,))\n"
          ]
        }
      ],
      "source": [
        "np.random.seed(0)\n",
        "train_x, test_x, train_y, test_y = train_test_split(vector,df.loc[:,\"Label\"],train_size = .8)\n",
        "print((train_x.shape,test_x.shape, train_y.shape, test_y.shape))"
      ]
    },
    {
      "cell_type": "markdown",
      "source": [
        "### In the following cells, each cell contains different type of kernel used for SVM model. The evaluation of model is carried out and the time taken is recorded. Kernel used include: \n",
        "## **1.Linear**\n",
        "\n",
        "##**2.Polynomial**\n",
        "\n",
        "##**3.Sigmoid**\n",
        "\n",
        "##**4.Radial Basis Function**."
      ],
      "metadata": {
        "id": "hxD6vne73c1T"
      },
      "id": "hxD6vne73c1T"
    },
    {
      "cell_type": "code",
      "execution_count": null,
      "id": "c1e745a1",
      "metadata": {
        "colab": {
          "base_uri": "https://localhost:8080/"
        },
        "id": "c1e745a1",
        "outputId": "4b00a31e-2b55-40f3-fa99-8169296ff2fb"
      },
      "outputs": [
        {
          "output_type": "stream",
          "name": "stdout",
          "text": [
            "[0 0 1 ... 1 0 1]\n",
            "{'0': {'precision': 0.7915904936014625, 'recall': 0.7794779477947795, 'f1-score': 0.7854875283446712, 'support': 1111}, '1': {'precision': 0.7641963426371511, 'recall': 0.776908023483366, 'f1-score': 0.7704997573993208, 'support': 1022}, 'accuracy': 0.7782466010314112, 'macro avg': {'precision': 0.7778934181193068, 'recall': 0.7781929856390728, 'f1-score': 0.777993642871996, 'support': 2133}, 'weighted avg': {'precision': 0.7784649322861665, 'recall': 0.7782466010314112, 'f1-score': 0.7783063272634952, 'support': 2133}}\n",
            "[[866 245]\n",
            " [228 794]]\n",
            "Training time: 12.149487257003784\n",
            "Prediction time: 2.3042943477630615\n"
          ]
        }
      ],
      "source": [
        "# Creating a svm model\n",
        "classifier_linear = svm.SVC(kernel = \"linear\")\n",
        "t0 = time.time() # time.time() function record the current time when the line is executed\n",
        "# Model Fitting\n",
        "classifier_linear.fit(train_x, train_y)\n",
        "t1 = time.time()\n",
        "# Predicting the data provided using built model\n",
        "prediction_linear = classifier_linear.predict(test_x)\n",
        "t2= time.time()\n",
        "print(prediction_linear)\n",
        "report = classification_report(test_y, prediction_linear, output_dict = True)\n",
        "confusion_matrix_result = confusion_matrix(test_y,prediction_linear)\n",
        "print(report)\n",
        "print(confusion_matrix_result)\n",
        "# Taking the time difference between the time recorded to predict the training time and prediction time\n",
        "print(\"Training time: \" + str(t1-t0))\n",
        "print(\"Prediction time: \" + str(t2-t1))"
      ]
    },
    {
      "cell_type": "code",
      "source": [
        "## Best SVM model\n",
        "classifier_poly = svm.SVC(kernel = \"poly\")\n",
        "t0 = time.time()\n",
        "classifier_poly.fit(train_x, train_y)\n",
        "t1 = time.time()\n",
        "prediction_poly = classifier_poly.predict(test_x)\n",
        "t2= time.time()\n",
        "report = classification_report(test_y, prediction_poly, output_dict = True)\n",
        "confusion_matrix_result = confusion_matrix(test_y,prediction_poly)\n",
        "print(report)\n",
        "print(confusion_matrix_result)\n",
        "print(\"Training time: \" + str(t1-t0))\n",
        "print(\"Prediction time: \" + str(t2-t1))"
      ],
      "metadata": {
        "colab": {
          "base_uri": "https://localhost:8080/"
        },
        "id": "F1KPbnk0yrWI",
        "outputId": "2a7056aa-b75a-4b7b-b7f3-44c29e01a614"
      },
      "id": "F1KPbnk0yrWI",
      "execution_count": null,
      "outputs": [
        {
          "output_type": "stream",
          "name": "stdout",
          "text": [
            "{'0': {'precision': 0.8304568527918782, 'recall': 0.7362736273627363, 'f1-score': 0.7805343511450382, 'support': 1111}, '1': {'precision': 0.7447735191637631, 'recall': 0.8365949119373777, 'f1-score': 0.7880184331797235, 'support': 1022}, 'accuracy': 0.784341303328645, 'macro avg': {'precision': 0.7876151859778207, 'recall': 0.786434269650057, 'f1-score': 0.7842763921623809, 'support': 2133}, 'weighted avg': {'precision': 0.7894027660746098, 'recall': 0.784341303328645, 'f1-score': 0.7841202544921776, 'support': 2133}}\n",
            "[[818 293]\n",
            " [167 855]]\n",
            "Training time: 28.10062003135681\n",
            "Prediction time: 3.0129761695861816\n"
          ]
        }
      ]
    },
    {
      "cell_type": "code",
      "source": [
        "classifier_sigmoid = svm.SVC(kernel = \"sigmoid\")\n",
        "t0 = time.time()\n",
        "classifier_sigmoid.fit(train_x, train_y)\n",
        "t1 = time.time()\n",
        "prediction_sigmoid = classifier_sigmoid.predict(test_x)\n",
        "t2= time.time()\n",
        "report = classification_report(test_y, prediction_sigmoid, output_dict = True)\n",
        "confusion_matrix_result = confusion_matrix(test_y,prediction_sigmoid)\n",
        "print(report)\n",
        "print(confusion_matrix_result)\n",
        "print(\"Training time: \" + str(t1-t0))\n",
        "print(\"Prediction time: \" + str(t2-t1))"
      ],
      "metadata": {
        "colab": {
          "base_uri": "https://localhost:8080/"
        },
        "id": "0dV3o0W24GYA",
        "outputId": "ae169b3b-fbb2-4c0a-a301-f842a14fb60a"
      },
      "id": "0dV3o0W24GYA",
      "execution_count": null,
      "outputs": [
        {
          "output_type": "stream",
          "name": "stdout",
          "text": [
            "{'0': {'precision': 0.7946837763519706, 'recall': 0.7803780378037803, 'f1-score': 0.7874659400544958, 'support': 1111}, '1': {'precision': 0.7658349328214972, 'recall': 0.7808219178082192, 'f1-score': 0.7732558139534884, 'support': 1022}, 'accuracy': 0.7805907172995781, 'macro avg': {'precision': 0.7802593545867339, 'recall': 0.7805999778059998, 'f1-score': 0.780360877003992, 'support': 2133}, 'weighted avg': {'precision': 0.7808612174733285, 'recall': 0.7805907172995781, 'f1-score': 0.7806573376751101, 'support': 2133}}\n",
            "[[867 244]\n",
            " [224 798]]\n",
            "Training time: 11.578099012374878\n",
            "Prediction time: 2.0863845348358154\n"
          ]
        }
      ]
    },
    {
      "cell_type": "code",
      "execution_count": null,
      "id": "9e0ce707",
      "metadata": {
        "colab": {
          "base_uri": "https://localhost:8080/"
        },
        "id": "9e0ce707",
        "outputId": "834842bb-2618-468e-e49b-1d25ef3156ca"
      },
      "outputs": [
        {
          "output_type": "stream",
          "name": "stdout",
          "text": [
            "{'0': {'precision': 0.7983501374885427, 'recall': 0.783978397839784, 'f1-score': 0.7910990009082653, 'support': 1111}, '1': {'precision': 0.7696737044145874, 'recall': 0.7847358121330724, 'f1-score': 0.7771317829457365, 'support': 1022}, 'accuracy': 0.784341303328645, 'macro avg': {'precision': 0.784011920951565, 'recall': 0.7843571049864282, 'f1-score': 0.784115391927001, 'support': 2133}, 'weighted avg': {'precision': 0.7846101869017718, 'recall': 0.784341303328645, 'f1-score': 0.7844067848943391, 'support': 2133}}\n",
            "[[871 240]\n",
            " [220 802]]\n",
            "Training time: 15.199859380722046\n",
            "Prediction time: 2.957329511642456\n"
          ]
        }
      ],
      "source": [
        "classifier_linear = svm.SVC(kernel = \"rbf\")\n",
        "t0 = time.time()\n",
        "classifier_linear.fit(train_x, train_y)\n",
        "t1 = time.time()\n",
        "prediction_linear = classifier_linear.predict(test_x)\n",
        "t2= time.time()\n",
        "report = classification_report(test_y, prediction_linear, output_dict = True)\n",
        "confusion_matrix_result = confusion_matrix(test_y,prediction_linear)\n",
        "print(report)\n",
        "print(confusion_matrix_result)\n",
        "print(\"Training time: \" + str(t1-t0))\n",
        "print(\"Prediction time: \" + str(t2-t1))"
      ]
    },
    {
      "cell_type": "code",
      "source": [],
      "metadata": {
        "id": "TU7TWSvN45Jj"
      },
      "id": "TU7TWSvN45Jj",
      "execution_count": null,
      "outputs": []
    },
    {
      "cell_type": "code",
      "source": [],
      "metadata": {
        "id": "3ulCBYdp4gzJ"
      },
      "id": "3ulCBYdp4gzJ",
      "execution_count": null,
      "outputs": []
    }
  ],
  "metadata": {
    "kernelspec": {
      "display_name": "Python 3 (ipykernel)",
      "language": "python",
      "name": "python3"
    },
    "language_info": {
      "codemirror_mode": {
        "name": "ipython",
        "version": 3
      },
      "file_extension": ".py",
      "mimetype": "text/x-python",
      "name": "python",
      "nbconvert_exporter": "python",
      "pygments_lexer": "ipython3",
      "version": "3.9.7"
    },
    "colab": {
      "provenance": []
    }
  },
  "nbformat": 4,
  "nbformat_minor": 5
}